{
 "cells": [
  {
   "cell_type": "code",
   "execution_count": 1,
   "id": "4f00fd25",
   "metadata": {},
   "outputs": [],
   "source": [
    "# Import the random module.\n",
    "import random"
   ]
  },
  {
   "cell_type": "code",
   "execution_count": 3,
   "id": "44b20ca6",
   "metadata": {},
   "outputs": [
    {
     "data": {
      "text/plain": [
       "45"
      ]
     },
     "execution_count": 3,
     "metadata": {},
     "output_type": "execute_result"
    }
   ],
   "source": [
    "# List of available random functions (random.Tab). Randint() only returns 1 integer, \n",
    "# not a floating-point decimal.\n",
    "\n",
    "random.randint(-90, 90)"
   ]
  },
  {
   "cell_type": "code",
   "execution_count": 5,
   "id": "a251a56c",
   "metadata": {},
   "outputs": [
    {
     "data": {
      "text/plain": [
       "0.39168591683944354"
      ]
     },
     "execution_count": 5,
     "metadata": {},
     "output_type": "execute_result"
    }
   ],
   "source": [
    "# Random.random() returns only a floating-poing decimal between 0 and 1.0.\n",
    "\n",
    "random.random()"
   ]
  },
  {
   "cell_type": "code",
   "execution_count": 6,
   "id": "9060bcc3",
   "metadata": {},
   "outputs": [
    {
     "data": {
      "text/plain": [
       "-3.779416153923629"
      ]
     },
     "execution_count": 6,
     "metadata": {},
     "output_type": "execute_result"
    }
   ],
   "source": [
    "# random.randomint(-90, 89) combined with random.random() can be used to generate random latitude\n",
    "# and longitude numbers.\n",
    "\n",
    "random_number = random.randint(-90, 89) + random.random()\n",
    "random_number"
   ]
  },
  {
   "cell_type": "code",
   "execution_count": 8,
   "id": "8d53c4d1",
   "metadata": {},
   "outputs": [
    {
     "data": {
      "text/plain": [
       "9"
      ]
     },
     "execution_count": 8,
     "metadata": {},
     "output_type": "execute_result"
    }
   ],
   "source": [
    "# randrange() function needs 2 numbers (upper limit, lower limit) seperated by a comma.\n",
    "\n",
    "random.randrange(-90, 90, step=1)"
   ]
  },
  {
   "cell_type": "code",
   "execution_count": 9,
   "id": "b8a93e50",
   "metadata": {},
   "outputs": [
    {
     "data": {
      "text/plain": [
       "39"
      ]
     },
     "execution_count": 9,
     "metadata": {},
     "output_type": "execute_result"
    }
   ],
   "source": [
    "random.randrange(-90, 90, step=3)"
   ]
  },
  {
   "cell_type": "code",
   "execution_count": 10,
   "id": "cda7472a",
   "metadata": {},
   "outputs": [
    {
     "data": {
      "text/plain": [
       "17.593083649755656"
      ]
     },
     "execution_count": 10,
     "metadata": {},
     "output_type": "execute_result"
    }
   ],
   "source": [
    "# Uniform function\n",
    "\n",
    "random.uniform(-90, 90)"
   ]
  },
  {
   "cell_type": "code",
   "execution_count": 11,
   "id": "c84ec676",
   "metadata": {},
   "outputs": [],
   "source": [
    "# Import the NumPy Module.\n",
    "\n",
    "import numpy as np"
   ]
  },
  {
   "cell_type": "code",
   "execution_count": 12,
   "id": "dcab4226",
   "metadata": {},
   "outputs": [
    {
     "data": {
      "text/plain": [
       "-42.44353878986084"
      ]
     },
     "execution_count": 12,
     "metadata": {},
     "output_type": "execute_result"
    }
   ],
   "source": [
    "# Generate floating-point numbers randomly.\n",
    "\n",
    "np.random.uniform(-90.000, 90.000)"
   ]
  },
  {
   "cell_type": "code",
   "execution_count": 14,
   "id": "f977882c",
   "metadata": {},
   "outputs": [
    {
     "data": {
      "text/plain": [
       "array([-24.94812032, -23.69178772, -46.0127652 ,   1.7085985 ,\n",
       "       -72.87968333, -37.11258677,  87.92446431,  48.50643037,\n",
       "        65.60766786,  31.71564063,  65.20058615, -26.64291935,\n",
       "         8.87133106,  59.72648687,  54.80132595,  67.48892672,\n",
       "        41.85426104,  47.98018788, -64.18962997, -83.42626281,\n",
       "       -69.38079989, -11.88209312,  66.89545186,  20.62365797,\n",
       "        -8.9218504 ,   9.83162447,  -3.73934698, -28.04718299,\n",
       "       -32.3405728 , -53.98434255, -24.35239052, -13.35108633,\n",
       "        44.65888282,  26.11328277, -65.2654762 ,  10.00428701,\n",
       "        81.86451059,  50.53188245,  -2.76271718,  66.17818618,\n",
       "        84.56716831, -87.89926045, -16.44563041,  26.91375581,\n",
       "       -31.72591008, -64.74307188, -89.11872773, -72.00187267,\n",
       "         3.89220245,  49.26854035])"
      ]
     },
     "execution_count": 14,
     "metadata": {},
     "output_type": "execute_result"
    }
   ],
   "source": [
    "# Generate more than one floating-point decimal randomly.\n",
    "\n",
    "np.random.uniform (-90.000, 90.000, size=50)"
   ]
  },
  {
   "cell_type": "code",
   "execution_count": 24,
   "id": "b6082717",
   "metadata": {},
   "outputs": [],
   "source": [
    "# Import timeit module.\n",
    "\n",
    "import timeit"
   ]
  },
  {
   "cell_type": "code",
   "execution_count": 25,
   "id": "8dc58b5b",
   "metadata": {},
   "outputs": [
    {
     "name": "stdout",
     "output_type": "stream",
     "text": [
      "17.1 µs ± 267 ns per loop (mean ± std. dev. of 7 runs, 100000 loops each)\n"
     ]
    }
   ],
   "source": [
    "# run timeit\n",
    "\n",
    "%timeit np.random.uniform (-90.000, 90.000, size=1500)"
   ]
  },
  {
   "cell_type": "code",
   "execution_count": 23,
   "id": "08ef8744",
   "metadata": {},
   "outputs": [
    {
     "name": "stdout",
     "output_type": "stream",
     "text": [
      "1.51 µs ± 75.4 ns per loop (mean ± std. dev. of 7 runs, 1000000 loops each)\n"
     ]
    }
   ],
   "source": [
    "def latitudes(size):\n",
    "    latitudes = []\n",
    "    x = 0\n",
    "    while x < (size):\n",
    "        random_lat = random.randint(-90,90) + random.random()\n",
    "        latitudes.append(random_lat)\n",
    "        x + 1\n",
    "        return latitudes\n",
    "    \n",
    "# Call the function with 1500.\n",
    "%timeit latitudes(1500)"
   ]
  },
  {
   "cell_type": "code",
   "execution_count": null,
   "id": "375f6bd4",
   "metadata": {},
   "outputs": [],
   "source": []
  }
 ],
 "metadata": {
  "kernelspec": {
   "display_name": "PythonData",
   "language": "python",
   "name": "pythondata"
  },
  "language_info": {
   "codemirror_mode": {
    "name": "ipython",
    "version": 3
   },
   "file_extension": ".py",
   "mimetype": "text/x-python",
   "name": "python",
   "nbconvert_exporter": "python",
   "pygments_lexer": "ipython3",
   "version": "3.9.7"
  }
 },
 "nbformat": 4,
 "nbformat_minor": 5
}
